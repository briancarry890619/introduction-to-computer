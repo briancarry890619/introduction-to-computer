{
  "nbformat": 4,
  "nbformat_minor": 0,
  "metadata": {
    "colab": {
      "provenance": [],
      "authorship_tag": "ABX9TyPVWawFDE7FOIqpvdin04Rh",
      "include_colab_link": true
    },
    "kernelspec": {
      "name": "python3",
      "display_name": "Python 3"
    },
    "language_info": {
      "name": "python"
    }
  },
  "cells": [
    {
      "cell_type": "markdown",
      "metadata": {
        "id": "view-in-github",
        "colab_type": "text"
      },
      "source": [
        "<a href=\"https://colab.research.google.com/github/briancarry890619/introduction-to-computer/blob/main/0327.ipynb\" target=\"_parent\"><img src=\"https://colab.research.google.com/assets/colab-badge.svg\" alt=\"Open In Colab\"/></a>"
      ]
    },
    {
      "cell_type": "code",
      "execution_count": 1,
      "metadata": {
        "colab": {
          "base_uri": "https://localhost:8080/"
        },
        "id": "VpPAH09uoCWy",
        "outputId": "cf9629a1-f3fb-47b7-acd2-2d0d415baa43"
      },
      "outputs": [
        {
          "output_type": "stream",
          "name": "stdout",
          "text": [
            "請輸入梯形上底長度：5\n",
            "請輸入梯形下底長度：7\n",
            "請輸入梯形的高度：12\n",
            "上底長度為： 5 下底長度為： 7 高度為： 12 梯形的面積為： 72.0\n"
          ]
        }
      ],
      "source": [
        "upper_base = int(input(\"請輸入梯形上底長度：\"))\n",
        "lower_base = int(input(\"請輸入梯形下底長度：\"))\n",
        "height = int(input(\"請輸入梯形的高度：\"))\n",
        "\n",
        "area = (upper_base + lower_base) * height / 2\n",
        "\n",
        "print(\"上底長度為：\", upper_base,\"下底長度為：\", lower_base,\"高度為：\", height,\"梯形的面積為：\", area)\n",
        "\n"
      ]
    }
  ]
}