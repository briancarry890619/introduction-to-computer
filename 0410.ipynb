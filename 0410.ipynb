{
  "nbformat": 4,
  "nbformat_minor": 0,
  "metadata": {
    "colab": {
      "provenance": [],
      "authorship_tag": "ABX9TyOdsZj25D52yw7Mr44oFJKb",
      "include_colab_link": true
    },
    "kernelspec": {
      "name": "python3",
      "display_name": "Python 3"
    },
    "language_info": {
      "name": "python"
    }
  },
  "cells": [
    {
      "cell_type": "markdown",
      "metadata": {
        "id": "view-in-github",
        "colab_type": "text"
      },
      "source": [
        "<a href=\"https://colab.research.google.com/github/briancarry890619/introduction-to-computer/blob/main/0410.ipynb\" target=\"_parent\"><img src=\"https://colab.research.google.com/assets/colab-badge.svg\" alt=\"Open In Colab\"/></a>"
      ]
    },
    {
      "cell_type": "code",
      "execution_count": 1,
      "metadata": {
        "colab": {
          "base_uri": "https://localhost:8080/"
        },
        "id": "Na2MZXe1oiIb",
        "outputId": "9e316736-b029-46b3-b268-0d7f3fd992bb"
      },
      "outputs": [
        {
          "output_type": "stream",
          "name": "stdout",
          "text": [
            "請輸入你的身高(cm)：175\n",
            "請輸入你的體重(kg)：67\n",
            "身高：175.0公分，體重：67.0公斤，BMI值為：21.877551020408163\n"
          ]
        }
      ],
      "source": [
        "height = float(input(\"請輸入你的身高(cm)：\"))\n",
        "weight = float(input(\"請輸入你的體重(kg)：\"))\n",
        "\n",
        "bmi = (weight * 10000) / (height ** 2)\n",
        "\n",
        "print(\"身高：{}公分，體重：{}公斤，BMI值為：{}\".format(height, weight, bmi))\n"
      ]
    }
  ]
}