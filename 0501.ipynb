{
  "nbformat": 4,
  "nbformat_minor": 0,
  "metadata": {
    "colab": {
      "provenance": [],
      "authorship_tag": "ABX9TyPmGLN0bsia+rWWq+yAVpTP",
      "include_colab_link": true
    },
    "kernelspec": {
      "name": "python3",
      "display_name": "Python 3"
    },
    "language_info": {
      "name": "python"
    }
  },
  "cells": [
    {
      "cell_type": "markdown",
      "metadata": {
        "id": "view-in-github",
        "colab_type": "text"
      },
      "source": [
        "<a href=\"https://colab.research.google.com/github/briancarry890619/introduction-to-computer/blob/main/0501.ipynb\" target=\"_parent\"><img src=\"https://colab.research.google.com/assets/colab-badge.svg\" alt=\"Open In Colab\"/></a>"
      ]
    },
    {
      "cell_type": "code",
      "execution_count": 1,
      "metadata": {
        "colab": {
          "base_uri": "https://localhost:8080/"
        },
        "id": "-9omaNZxpFuP",
        "outputId": "7d3ddbeb-19ec-4e55-9e84-1dc6cf022511"
      },
      "outputs": [
        {
          "output_type": "stream",
          "name": "stdout",
          "text": [
            "Hello world\n"
          ]
        }
      ],
      "source": [
        "print(\"Hello world\")"
      ]
    },
    {
      "cell_type": "code",
      "source": [
        "F=100\n",
        "C=(F-32)*5/9\n",
        "print(\"%.1f\"%C)"
      ],
      "metadata": {
        "colab": {
          "base_uri": "https://localhost:8080/"
        },
        "id": "PqtZvt-TpMg1",
        "outputId": "c950ed31-2dd9-448b-c825-f3871f2faf4c"
      },
      "execution_count": 2,
      "outputs": [
        {
          "output_type": "stream",
          "name": "stdout",
          "text": [
            "37.8\n"
          ]
        }
      ]
    },
    {
      "cell_type": "code",
      "source": [
        "n = 5\n",
        "total = 0\n",
        "for i in range(1, n+1):\n",
        "    total += i\n",
        "    print(i)\n",
        "\n",
        "print(\"1 到\", n, \"的整數合為：\", total)"
      ],
      "metadata": {
        "colab": {
          "base_uri": "https://localhost:8080/"
        },
        "id": "lFG2BPyZpPLS",
        "outputId": "5d99dec6-29d1-4931-f34d-08a28e10544b"
      },
      "execution_count": 3,
      "outputs": [
        {
          "output_type": "stream",
          "name": "stdout",
          "text": [
            "1\n",
            "2\n",
            "3\n",
            "4\n",
            "5\n",
            "1 到 5 的整數合為： 15\n"
          ]
        }
      ]
    },
    {
      "cell_type": "code",
      "source": [
        "principal = 10000\n",
        "interest_rate = 0.02\n",
        "\n",
        "for i in range(6):\n",
        "    principal *= (1 + interest_rate)\n",
        "\n",
        "print(\"六年後的本金：\", principal)\n",
        "     "
      ],
      "metadata": {
        "colab": {
          "base_uri": "https://localhost:8080/"
        },
        "id": "8iTh8qELpRh6",
        "outputId": "9213aebe-7485-4e1d-b719-b397d3a57413"
      },
      "execution_count": 4,
      "outputs": [
        {
          "output_type": "stream",
          "name": "stdout",
          "text": [
            "六年後的本金： 11261.62419264\n"
          ]
        }
      ]
    }
  ]
}