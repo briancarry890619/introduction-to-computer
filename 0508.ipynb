{
  "nbformat": 4,
  "nbformat_minor": 0,
  "metadata": {
    "colab": {
      "provenance": [],
      "authorship_tag": "ABX9TyPnxHeX3i9tMC8dZn/MW1F2",
      "include_colab_link": true
    },
    "kernelspec": {
      "name": "python3",
      "display_name": "Python 3"
    },
    "language_info": {
      "name": "python"
    }
  },
  "cells": [
    {
      "cell_type": "markdown",
      "metadata": {
        "id": "view-in-github",
        "colab_type": "text"
      },
      "source": [
        "<a href=\"https://colab.research.google.com/github/briancarry890619/introduction-to-computer/blob/main/0508.ipynb\" target=\"_parent\"><img src=\"https://colab.research.google.com/assets/colab-badge.svg\" alt=\"Open In Colab\"/></a>"
      ]
    },
    {
      "cell_type": "code",
      "execution_count": null,
      "metadata": {
        "colab": {
          "base_uri": "https://localhost:8080/"
        },
        "id": "1OQRxQAjHdF9",
        "outputId": "8df1d86e-061b-44c5-b6cf-1dc56216cca7"
      },
      "outputs": [
        {
          "output_type": "stream",
          "name": "stdout",
          "text": [
            "Hi\n"
          ]
        }
      ],
      "source": [
        "print(\"Hi\")"
      ]
    },
    {
      "cell_type": "code",
      "source": [
        "score = int(input(\"請輸入分數\"))\n",
        "if score >= 60 :\n",
        "  print(\"及格\")\n",
        "else:\n",
        "    print(\"不及格\")"
      ],
      "metadata": {
        "colab": {
          "base_uri": "https://localhost:8080/"
        },
        "id": "IP7uB8YOHv3V",
        "outputId": "dafd83ff-3d53-4393-b421-bf669918cb92"
      },
      "execution_count": null,
      "outputs": [
        {
          "output_type": "stream",
          "name": "stdout",
          "text": [
            "請輸入分數40\n",
            "不及格\n"
          ]
        }
      ]
    },
    {
      "cell_type": "code",
      "source": [
        "password  =  int (input(\"請輸入密碼:\" ))\n",
        "if password == 1234:\n",
        "   print(\"密碼正確\")\n",
        "else:\n",
        "  print(\"密碼不正確\")\n"
      ],
      "metadata": {
        "colab": {
          "base_uri": "https://localhost:8080/"
        },
        "id": "n3A9Z6igPuiQ",
        "outputId": "f0937945-b7d4-4d3a-ed51-e6bd6dc517e7"
      },
      "execution_count": null,
      "outputs": [
        {
          "output_type": "stream",
          "name": "stdout",
          "text": [
            "請輸入密碼:1111\n",
            "密碼不正確\n"
          ]
        }
      ]
    }
  ]
}