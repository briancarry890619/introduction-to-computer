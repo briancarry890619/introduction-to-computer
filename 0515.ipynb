{
  "nbformat": 4,
  "nbformat_minor": 0,
  "metadata": {
    "colab": {
      "provenance": [],
      "authorship_tag": "ABX9TyOu7nAlPVyPAM9IaFJfJQv2",
      "include_colab_link": true
    },
    "kernelspec": {
      "name": "python3",
      "display_name": "Python 3"
    },
    "language_info": {
      "name": "python"
    }
  },
  "cells": [
    {
      "cell_type": "markdown",
      "metadata": {
        "id": "view-in-github",
        "colab_type": "text"
      },
      "source": [
        "<a href=\"https://colab.research.google.com/github/briancarry890619/introduction-to-computer/blob/main/0515.ipynb\" target=\"_parent\"><img src=\"https://colab.research.google.com/assets/colab-badge.svg\" alt=\"Open In Colab\"/></a>"
      ]
    },
    {
      "cell_type": "code",
      "execution_count": 8,
      "metadata": {
        "colab": {
          "base_uri": "https://localhost:8080/"
        },
        "id": "gHQkbu0q3EiN",
        "outputId": "27eaa78b-fc29-4d7b-a8b5-1b012fa5c23d"
      },
      "outputs": [
        {
          "output_type": "stream",
          "name": "stdout",
          "text": [
            "score38\n",
            "體溫過高!\n"
          ]
        }
      ],
      "source": [
        "score =int(input(\"score\"))\n",
        "if score  >= 37.5:\n",
        "  print('體溫過高!')\n",
        "elif score (37,37.4):\n",
        "  print('體溫略高!')\n",
        "elif score (34,36.9):\n",
        "  print('體溫正常!')\n",
        "else: \n",
        "  print('體溫異常，請重新量測!')"
      ]
    },
    {
      "cell_type": "code",
      "source": [
        "score = int(input(\"score\"))\n",
        "if score >=90:\n",
        "  print('Grade is: A')\n",
        "elif score >=80:\n",
        "  print ('Grade is: B')\n",
        "elif score >=70:\n",
        " print('Grade is: C')\n",
        "elif  score >=60:\n",
        "  print('Grade is:D')\n",
        "else:\n",
        "  print('Grade is:F')"
      ],
      "metadata": {
        "colab": {
          "base_uri": "https://localhost:8080/"
        },
        "id": "wwfO_zzF8ABH",
        "outputId": "e5a3407a-47dd-4a81-a9c0-c2319c2e0fbd"
      },
      "execution_count": 22,
      "outputs": [
        {
          "output_type": "stream",
          "name": "stdout",
          "text": [
            "score80\n",
            "Grade is: B\n"
          ]
        }
      ]
    },
    {
      "cell_type": "code",
      "source": [
        "收入 = int(input(\"收入\"))\n",
        "if score >=2000000:\n",
        "  print('稅率為0.3')\n",
        "elif score >=80:\n",
        "  print ('Grade is: B')\n",
        "elif score >=70:\n",
        " print('Grade is: C')\n",
        "elif  score >=60:\n",
        "  print('Grade is:D')\n",
        "else:\n",
        "  print('Grade is:F')"
      ],
      "metadata": {
        "id": "pGjR_rLvDpy_"
      },
      "execution_count": null,
      "outputs": []
    },
    {
      "cell_type": "code",
      "source": [
        "X = int(input(\"x\"))\n",
        "if X == 3 and 4 and 5 : \n",
        "  print('3 4 5月是春天')\n",
        "elif X== 6 and 7 and 8 : \n",
        "  print ('6 7 8月是夏天: ')\n",
        "elif X== 9and 10and 11 :\n",
        " print('9 10 11月是秋天')\n",
        "\n",
        "else:\n",
        "  print('12 1 2是冬天')"
      ],
      "metadata": {
        "colab": {
          "base_uri": "https://localhost:8080/"
        },
        "id": "4takH0YB37Uj",
        "outputId": "7e3126b2-1efa-4ac7-a4ab-ff17dee0bc5e"
      },
      "execution_count": 47,
      "outputs": [
        {
          "output_type": "stream",
          "name": "stdout",
          "text": [
            "x6\n",
            "6 7 8月是夏天: \n"
          ]
        }
      ]
    },
    {
      "cell_type": "code",
      "source": [
        "收入 = int(input(\"收入\"))\n",
        "if 收入>=2000000:\n",
        "  print('稅率為0.3')\n",
        "elif score >=1000000:\n",
        "  print ('稅率為0.21')\n",
        "elif score >=600000:\n",
        " print('稅率為0.13')\n",
        "elif  score >=300000:\n",
        "  print('稅率為0.06')\n",
        "else:\n",
        "  print('稅率為0')"
      ],
      "metadata": {
        "colab": {
          "base_uri": "https://localhost:8080/"
        },
        "id": "b4IdmQNhBtb2",
        "outputId": "53f9be12-c186-44c7-d2a0-6fb5ec6512f9"
      },
      "execution_count": 50,
      "outputs": [
        {
          "output_type": "stream",
          "name": "stdout",
          "text": [
            "收入100000\n",
            "稅率為0\n"
          ]
        }
      ]
    }
  ]
}