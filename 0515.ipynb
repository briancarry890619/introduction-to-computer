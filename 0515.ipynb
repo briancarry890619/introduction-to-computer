{
  "nbformat": 4,
  "nbformat_minor": 0,
  "metadata": {
    "colab": {
      "provenance": [],
      "authorship_tag": "ABX9TyO3812g15/4fV/zW8K1oBCd",
      "include_colab_link": true
    },
    "kernelspec": {
      "name": "python3",
      "display_name": "Python 3"
    },
    "language_info": {
      "name": "python"
    }
  },
  "cells": [
    {
      "cell_type": "markdown",
      "metadata": {
        "id": "view-in-github",
        "colab_type": "text"
      },
      "source": [
        "<a href=\"https://colab.research.google.com/github/briancarry890619/introduction-to-computer/blob/main/0515.ipynb\" target=\"_parent\"><img src=\"https://colab.research.google.com/assets/colab-badge.svg\" alt=\"Open In Colab\"/></a>"
      ]
    },
    {
      "cell_type": "code",
      "execution_count": 4,
      "metadata": {
        "colab": {
          "base_uri": "https://localhost:8080/"
        },
        "id": "2smouJYDYnx-",
        "outputId": "e99cdca7-f529-404a-918f-352e13a9fc75"
      },
      "outputs": [
        {
          "output_type": "stream",
          "name": "stdout",
          "text": [
            "score70\n",
            "Grade is C\n"
          ]
        }
      ],
      "source": [
        "score= int(input(\"score\"))\n",
        "if score  >= 90:\n",
        "  print('Grade is A')\n",
        "elif score >=80:\n",
        "  print('Grade is B')\n",
        "elif score >=70:\n",
        "  print('Grade is C')\n",
        "elif score >=60:\n",
        "  print('Grade is D')\n",
        "else:\n",
        "  print('Grade is F')\n"
      ]
    },
    {
      "cell_type": "code",
      "source": [
        "score =int(input(\"score\"))\n",
        "if score  >= 37.5:\n",
        "  print('體溫過高!')\n",
        "elif score (37,37.4):\n",
        "  print('體溫略高!')\n",
        "elif score (34,36.9):\n",
        "  print('體溫正常!')\n",
        "else: \n",
        "  print('體溫異常，請重新量測!')\n",
        "\n"
      ],
      "metadata": {
        "colab": {
          "base_uri": "https://localhost:8080/"
        },
        "id": "wLQOz7jimGGH",
        "outputId": "b660396a-ee3b-4063-d30d-c60c6e96674f"
      },
      "execution_count": 22,
      "outputs": [
        {
          "output_type": "stream",
          "name": "stdout",
          "text": [
            "score38\n",
            "體溫過高!\n"
          ]
        }
      ]
    },
    {
      "cell_type": "code",
      "source": [],
      "metadata": {
        "id": "QEPtvV9Rs-IA"
      },
      "execution_count": null,
      "outputs": []
    }
  ]
}